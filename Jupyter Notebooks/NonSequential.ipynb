{
  "nbformat": 4,
  "nbformat_minor": 0,
  "metadata": {
    "colab": {
      "name": "NonSequential.ipynb",
      "version": "0.3.2",
      "provenance": [],
      "collapsed_sections": []
    },
    "kernelspec": {
      "name": "python3",
      "display_name": "Python 3"
    },
    "accelerator": "GPU"
  },
  "cells": [
    {
      "metadata": {
        "id": "cUhrcLfVjAJI",
        "colab_type": "code",
        "outputId": "e57af9f2-835f-46c4-d7c7-b191d95bedfc",
        "colab": {
          "base_uri": "https://localhost:8080/",
          "height": 34
        }
      },
      "cell_type": "code",
      "source": [
        "import keras\n",
        "import matplotlib.pyplot as plt\n",
        "import numpy as np\n",
        "from  keras.datasets import mnist\n",
        "from sklearn.model_selection import train_test_split"
      ],
      "execution_count": 1,
      "outputs": [
        {
          "output_type": "stream",
          "text": [
            "Using TensorFlow backend.\n"
          ],
          "name": "stderr"
        }
      ]
    },
    {
      "metadata": {
        "id": "5Tt3gtuljSWm",
        "colab_type": "code",
        "outputId": "f1bb32a7-f0c6-4c9d-a3d5-06a410e5d3dd",
        "colab": {
          "base_uri": "https://localhost:8080/",
          "height": 364
        }
      },
      "cell_type": "code",
      "source": [
        "(y_train, x_train), (y_test, x_test) = mnist.load_data()\n",
        "\n",
        "plt.imshow(y_train[10])\n",
        "print(x_train[10])\n",
        "\n",
        "y_train = y_train.reshape(y_train.shape[0], 28, 28, 1)\n",
        "y_test = y_test.reshape(y_test.shape[0], 28, 28, 1)\n",
        "\n",
        "nepochs = 50\n",
        "b_size = 512\n",
        "\n",
        "rnum = np.random.rand(60000,784)"
      ],
      "execution_count": 2,
      "outputs": [
        {
          "output_type": "stream",
          "text": [
            "3\n"
          ],
          "name": "stdout"
        },
        {
          "output_type": "display_data",
          "data": {
            "image/png": "[encoded data removed]",
            "text/plain": [
              "<Figure size 576x396 with 1 Axes>"
            ]
          },
          "metadata": {
            "tags": []
          }
        }
      ]
    },
    {
      "metadata": {
        "id": "cBsR0Rvsjq6B",
        "colab_type": "code",
        "colab": {}
      },
      "cell_type": "code",
      "source": [
        "from keras.layers import Input, Dense, Conv2D, Dropout, UpSampling2D, UpSampling1D, Reshape\n",
        "from keras.models import Model\n",
        "from keras.optimizers import RMSprop"
      ],
      "execution_count": 0,
      "outputs": []
    },
    {
      "metadata": {
        "id": "337JNpQzkpEL",
        "colab_type": "code",
        "outputId": "ffe2039c-f7b1-468c-dd1a-d26a1c9425da",
        "colab": {
          "base_uri": "https://localhost:8080/",
          "height": 749
        }
      },
      "cell_type": "code",
      "source": [
        "a = Input(shape=(784,))\n",
        "b = Input(shape=(1,))\n",
        "\n",
        "x1 = Dense(64, activation='relu')(a)\n",
        "x1 = keras.layers.Dropout(0.25)(x1)\n",
        "out_a = Dense(256, activation='relu')(x1)\n",
        "\n",
        "x2 = keras.layers.Dense(64, activation='relu')(b)\n",
        "x2 = keras.layers.Dropout(0.25)(x2)\n",
        "out_b = keras.layers.Dense(256, activation='softmax')(x2)\n",
        "\n",
        "concatenated = keras.layers.concatenate([out_a, out_b])\n",
        "\n",
        "x = keras.layers.Dense(784, activation='relu')(concatenated)\n",
        "x = keras.layers.Dense(784, activation='relu')(x)\n",
        "x = keras.layers.Dense(784, activation='relu')(x)\n",
        "x = keras.layers.Reshape((28,28,1))(x)\n",
        "#x = keras.layers.Conv2D(32,(3,3),strides=(2,2), activation = 'relu')(x)\n",
        "#x = keras.layers.Conv2D(1,(3,3),strides=(1,1), activation = 'relu')(x)\n",
        "\n",
        "model = Model(inputs = [a,b], outputs = x)\n",
        "\n",
        "print(model.summary())"
      ],
      "execution_count": 4,
      "outputs": [
        {
          "output_type": "stream",
          "text": [
            "WARNING:tensorflow:From /usr/local/lib/python3.6/dist-packages/tensorflow/python/framework/op_def_library.py:263: colocate_with (from tensorflow.python.framework.ops) is deprecated and will be removed in a future version.\n",
            "Instructions for updating:\n",
            "Colocations handled automatically by placer.\n",
            "WARNING:tensorflow:From /usr/local/lib/python3.6/dist-packages/keras/backend/tensorflow_backend.py:3445: calling dropout (from tensorflow.python.ops.nn_ops) with keep_prob is deprecated and will be removed in a future version.\n",
            "Instructions for updating:\n",
            "Please use `rate` instead of `keep_prob`. Rate should be set to `rate = 1 - keep_prob`.\n",
            "__________________________________________________________________________________________________\n",
            "Layer (type)                    Output Shape         Param #     Connected to                     \n",
            "==================================================================================================\n",
            "input_1 (InputLayer)            (None, 784)          0                                            \n",
            "__________________________________________________________________________________________________\n",
            "input_2 (InputLayer)            (None, 1)            0                                            \n",
            "__________________________________________________________________________________________________\n",
            "dense_1 (Dense)                 (None, 64)           50240       input_1[0][0]                    \n",
            "__________________________________________________________________________________________________\n",
            "dense_3 (Dense)                 (None, 64)           128         input_2[0][0]                    \n",
            "__________________________________________________________________________________________________\n",
            "dropout_1 (Dropout)             (None, 64)           0           dense_1[0][0]                    \n",
            "__________________________________________________________________________________________________\n",
            "dropout_2 (Dropout)             (None, 64)           0           dense_3[0][0]                    \n",
            "__________________________________________________________________________________________________\n",
            "dense_2 (Dense)                 (None, 256)          16640       dropout_1[0][0]                  \n",
            "__________________________________________________________________________________________________\n",
            "dense_4 (Dense)                 (None, 256)          16640       dropout_2[0][0]                  \n",
            "__________________________________________________________________________________________________\n",
            "concatenate_1 (Concatenate)     (None, 512)          0           dense_2[0][0]                    \n",
            "                                                                 dense_4[0][0]                    \n",
            "__________________________________________________________________________________________________\n",
            "dense_5 (Dense)                 (None, 784)          402192      concatenate_1[0][0]              \n",
            "__________________________________________________________________________________________________\n",
            "dense_6 (Dense)                 (None, 784)          615440      dense_5[0][0]                    \n",
            "__________________________________________________________________________________________________\n",
            "dense_7 (Dense)                 (None, 784)          615440      dense_6[0][0]                    \n",
            "__________________________________________________________________________________________________\n",
            "reshape_1 (Reshape)             (None, 28, 28, 1)    0           dense_7[0][0]                    \n",
            "==================================================================================================\n",
            "Total params: 1,716,720\n",
            "Trainable params: 1,716,720\n",
            "Non-trainable params: 0\n",
            "__________________________________________________________________________________________________\n",
            "None\n"
          ],
          "name": "stdout"
        }
      ]
    },
    {
      "metadata": {
        "id": "lGSbzhJbvQMJ",
        "colab_type": "code",
        "colab": {}
      },
      "cell_type": "code",
      "source": [
        "model.compile(loss='mean_squared_error',\n",
        "              optimizer = RMSprop())"
      ],
      "execution_count": 0,
      "outputs": []
    },
    {
      "metadata": {
        "id": "q_gBRZ0cvQSC",
        "colab_type": "code",
        "outputId": "b1e60523-9eff-4969-d4f8-1c8ee463bd86",
        "colab": {
          "base_uri": "https://localhost:8080/",
          "height": 1806
        }
      },
      "cell_type": "code",
      "source": [
        "hist = model.fit( [rnum, x_train], y_train, epochs=nepochs, batch_size=b_size)"
      ],
      "execution_count": 6,
      "outputs": [
        {
          "output_type": "stream",
          "text": [
            "WARNING:tensorflow:From /usr/local/lib/python3.6/dist-packages/tensorflow/python/ops/math_ops.py:3066: to_int32 (from tensorflow.python.ops.math_ops) is deprecated and will be removed in a future version.\n",
            "Instructions for updating:\n",
            "Use tf.cast instead.\n",
            "Epoch 1/50\n",
            "60000/60000 [==============================] - 3s 43us/step - loss: 4781.5305\n",
            "Epoch 2/50\n",
            "60000/60000 [==============================] - 2s 26us/step - loss: 4664.9063\n",
            "Epoch 3/50\n",
            "60000/60000 [==============================] - 2s 26us/step - loss: 4636.6020\n",
            "Epoch 4/50\n",
            "60000/60000 [==============================] - 2s 26us/step - loss: 4624.0262\n",
            "Epoch 5/50\n",
            "60000/60000 [==============================] - 2s 27us/step - loss: 4611.1068\n",
            "Epoch 6/50\n",
            "60000/60000 [==============================] - 2s 26us/step - loss: 4592.9438\n",
            "Epoch 7/50\n",
            "60000/60000 [==============================] - 2s 26us/step - loss: 4534.8964\n",
            "Epoch 8/50\n",
            "60000/60000 [==============================] - 2s 26us/step - loss: 4483.0491\n",
            "Epoch 9/50\n",
            "60000/60000 [==============================] - 2s 26us/step - loss: 4467.0458\n",
            "Epoch 10/50\n",
            "60000/60000 [==============================] - 2s 26us/step - loss: 4451.0819\n",
            "Epoch 11/50\n",
            "60000/60000 [==============================] - 2s 27us/step - loss: 4432.0694\n",
            "Epoch 12/50\n",
            "60000/60000 [==============================] - 2s 26us/step - loss: 4416.4682\n",
            "Epoch 13/50\n",
            "60000/60000 [==============================] - 2s 26us/step - loss: 4398.3716\n",
            "Epoch 14/50\n",
            "60000/60000 [==============================] - 2s 26us/step - loss: 4386.9284\n",
            "Epoch 15/50\n",
            "60000/60000 [==============================] - 2s 26us/step - loss: 4378.0145\n",
            "Epoch 16/50\n",
            "60000/60000 [==============================] - 2s 26us/step - loss: 4364.3048\n",
            "Epoch 17/50\n",
            "60000/60000 [==============================] - 2s 25us/step - loss: 4324.9131\n",
            "Epoch 18/50\n",
            "60000/60000 [==============================] - 2s 26us/step - loss: 4268.4011\n",
            "Epoch 19/50\n",
            "60000/60000 [==============================] - 2s 26us/step - loss: 4207.1898\n",
            "Epoch 20/50\n",
            "60000/60000 [==============================] - 2s 26us/step - loss: 4168.7795\n",
            "Epoch 21/50\n",
            "60000/60000 [==============================] - 2s 26us/step - loss: 4139.6048\n",
            "Epoch 22/50\n",
            "60000/60000 [==============================] - 2s 26us/step - loss: 4111.0792\n",
            "Epoch 23/50\n",
            "60000/60000 [==============================] - 2s 26us/step - loss: 4089.6799\n",
            "Epoch 24/50\n",
            "60000/60000 [==============================] - 2s 26us/step - loss: 4070.0439\n",
            "Epoch 25/50\n",
            "60000/60000 [==============================] - 2s 26us/step - loss: 4055.1383\n",
            "Epoch 26/50\n",
            "60000/60000 [==============================] - 2s 26us/step - loss: 4043.1938\n",
            "Epoch 27/50\n",
            "60000/60000 [==============================] - 2s 27us/step - loss: 4013.8487\n",
            "Epoch 28/50\n",
            "60000/60000 [==============================] - 2s 26us/step - loss: 3993.8397\n",
            "Epoch 29/50\n",
            "60000/60000 [==============================] - 2s 26us/step - loss: 3987.4868\n",
            "Epoch 30/50\n",
            "60000/60000 [==============================] - 2s 25us/step - loss: 3982.0905\n",
            "Epoch 31/50\n",
            "60000/60000 [==============================] - 2s 26us/step - loss: 3970.0174\n",
            "Epoch 32/50\n",
            "60000/60000 [==============================] - 2s 25us/step - loss: 3958.0357\n",
            "Epoch 33/50\n",
            "60000/60000 [==============================] - 2s 26us/step - loss: 3952.5786\n",
            "Epoch 34/50\n",
            "60000/60000 [==============================] - 2s 26us/step - loss: 3948.7590\n",
            "Epoch 35/50\n",
            "60000/60000 [==============================] - 2s 25us/step - loss: 3947.4766\n",
            "Epoch 36/50\n",
            "60000/60000 [==============================] - 2s 25us/step - loss: 3944.6225\n",
            "Epoch 37/50\n",
            "60000/60000 [==============================] - 2s 26us/step - loss: 3942.0620\n",
            "Epoch 38/50\n",
            "60000/60000 [==============================] - 2s 26us/step - loss: 3940.6196\n",
            "Epoch 39/50\n",
            "60000/60000 [==============================] - 2s 26us/step - loss: 3938.4933\n",
            "Epoch 40/50\n",
            "60000/60000 [==============================] - 2s 26us/step - loss: 3936.9145\n",
            "Epoch 41/50\n",
            "60000/60000 [==============================] - 2s 26us/step - loss: 3935.3025\n",
            "Epoch 42/50\n",
            "60000/60000 [==============================] - 2s 26us/step - loss: 3931.9599\n",
            "Epoch 43/50\n",
            "60000/60000 [==============================] - 2s 25us/step - loss: 3928.8788\n",
            "Epoch 44/50\n",
            "60000/60000 [==============================] - 2s 25us/step - loss: 3923.8214\n",
            "Epoch 45/50\n",
            "60000/60000 [==============================] - 2s 25us/step - loss: 3898.8839\n",
            "Epoch 46/50\n",
            "60000/60000 [==============================] - 2s 25us/step - loss: 3886.4710\n",
            "Epoch 47/50\n",
            "60000/60000 [==============================] - 2s 25us/step - loss: 3873.9364\n",
            "Epoch 48/50\n",
            "60000/60000 [==============================] - 2s 25us/step - loss: 3860.1796\n",
            "Epoch 49/50\n",
            "60000/60000 [==============================] - 2s 25us/step - loss: 3847.4775\n",
            "Epoch 50/50\n",
            "60000/60000 [==============================] - 2s 26us/step - loss: 3835.1023\n"
          ],
          "name": "stdout"
        }
      ]
    },
    {
      "metadata": {
        "id": "N-_b0JVIvQU3",
        "colab_type": "code",
        "outputId": "955f339a-63e1-4ace-9448-3d6b0cc9d431",
        "colab": {
          "base_uri": "https://localhost:8080/",
          "height": 52
        }
      },
      "cell_type": "code",
      "source": [
        "rnum2 = np.random.rand(10000,784)\n",
        "score = model.evaluate([rnum2,x_test],y_test, batch_size = 1)\n",
        "score"
      ],
      "execution_count": 7,
      "outputs": [
        {
          "output_type": "stream",
          "text": [
            "10000/10000 [==============================] - 14s 1ms/step\n"
          ],
          "name": "stdout"
        },
        {
          "output_type": "execute_result",
          "data": {
            "text/plain": [
              "3812.4368978515627"
            ]
          },
          "metadata": {
            "tags": []
          },
          "execution_count": 7
        }
      ]
    },
    {
      "metadata": {
        "id": "e5VLQB03jwxo",
        "colab_type": "code",
        "outputId": "edae0ba3-2458-4321-cae3-7d5e23549ce5",
        "colab": {
          "base_uri": "https://localhost:8080/",
          "height": 364
        }
      },
      "cell_type": "code",
      "source": [
        "pred = 3\n",
        "\n",
        "rnum3 = np.random.rand(1,784)\n",
        "n = x_test[11].reshape(1, 1)\n",
        "n[0][0] = pred\n",
        "\n",
        "img = model.predict(x=[rnum3,n])\n",
        "img = img.reshape(28,28)\n",
        "plt.imshow(img)\n",
        "print(n)"
      ],
      "execution_count": 8,
      "outputs": [
        {
          "output_type": "stream",
          "text": [
            "[[3]]\n"
          ],
          "name": "stdout"
        },
        {
          "output_type": "display_data",
          "data": {
            "image/png": "[encoded data removed]",
            "text/plain": [
              "<Figure size 576x396 with 1 Axes>"
            ]
          },
          "metadata": {
            "tags": []
          }
        }
      ]
    },
    {
      "metadata": {
        "id": "4tsBZx6RxH3o",
        "colab_type": "code",
        "colab": {}
      },
      "cell_type": "code",
      "source": [
        ""
      ],
      "execution_count": 0,
      "outputs": []
    },
    {
      "metadata": {
        "id": "Y3PWcjj6Nm5Q",
        "colab_type": "code",
        "colab": {}
      },
      "cell_type": "code",
      "source": [
        ""
      ],
      "execution_count": 0,
      "outputs": []
    }
  ]
}