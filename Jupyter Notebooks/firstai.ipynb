{
  "nbformat": 4,
  "nbformat_minor": 0,
  "metadata": {
    "colab": {
      "name": "firstai.ipynb",
      "version": "0.3.2",
      "provenance": []
    },
    "kernelspec": {
      "display_name": "Python 2",
      "language": "python",
      "name": "python2"
    }
  },
  "cells": [
    {
      "metadata": {
        "id": "1g3nEIyl7HdW",
        "colab_type": "code",
        "colab": {}
      },
      "cell_type": "code",
      "source": [
        "import pandas as pd\n",
        "import numpy as np\n",
        "from sklearn.model_selection import train_test_split\n",
        "np.random.seed(8)"
      ],
      "execution_count": 0,
      "outputs": []
    },
    {
      "metadata": {
        "id": "UDk2U8_57HdZ",
        "colab_type": "code",
        "colab": {}
      },
      "cell_type": "code",
      "source": [
        "from keras.models import Sequential\n",
        "from keras.layers import Dense,Dropout\n",
        "from keras import optimizers\n",
        "from keras import losses"
      ],
      "execution_count": 0,
      "outputs": []
    },
    {
      "metadata": {
        "id": "kSqMyNnd7Hdc",
        "colab_type": "code",
        "colab": {}
      },
      "cell_type": "code",
      "source": [
        "data = pd.read_csv(\"whitewine.csv\")"
      ],
      "execution_count": 0,
      "outputs": []
    },
    {
      "metadata": {
        "id": "-BG1NdA27Hde",
        "colab_type": "code",
        "colab": {}
      },
      "cell_type": "code",
      "source": [
        "X = data.loc[:, data.columns != 'quality'].astype(float)\n",
        "Y = data.loc[:, data.columns == 'quality'].astype(float)\n",
        "Y['quality'] = np.where(Y['quality'] >= 0.6, 1,  0)\n",
        "x_train, x_test, y_train, y_test = train_test_split(X,Y,test_size=0.2)\n",
        "x_train, x_val, y_train, y_val = train_test_split(X,Y,test_size=0.5)"
      ],
      "execution_count": 0,
      "outputs": []
    },
    {
      "metadata": {
        "id": "1PAqVUeo7Hdg",
        "colab_type": "code",
        "colab": {
          "base_uri": "https://localhost:8080/",
          "height": 89
        },
        "outputId": "e6be5ee0-f32b-4fc8-8b26-ce2a0b89af0b"
      },
      "cell_type": "code",
      "source": [
        "model=Sequential()\n",
        "model.add(Dense(1000, activation=\"relu\",input_dim=9))\n",
        "model.add(Dense(500, activation=\"relu\"))\n",
        "#model.add(Dropout(0.5))\n",
        "model.add(Dense(200, activation=\"relu\"))\n",
        "model.add(Dense(1, activation=\"sigmoid\"))"
      ],
      "execution_count": 7,
      "outputs": [
        {
          "output_type": "stream",
          "text": [
            "WARNING:tensorflow:From /usr/local/lib/python2.7/dist-packages/tensorflow/python/framework/op_def_library.py:263: colocate_with (from tensorflow.python.framework.ops) is deprecated and will be removed in a future version.\n",
            "Instructions for updating:\n",
            "Colocations handled automatically by placer.\n"
          ],
          "name": "stdout"
        }
      ]
    },
    {
      "metadata": {
        "id": "EeqxPgul7Hdi",
        "colab_type": "code",
        "colab": {}
      },
      "cell_type": "code",
      "source": [
        "sgd=optimizers.SGD(lr=0.002,decay=0.03)"
      ],
      "execution_count": 0,
      "outputs": []
    },
    {
      "metadata": {
        "id": "J57CjHTj7Hdk",
        "colab_type": "code",
        "colab": {}
      },
      "cell_type": "code",
      "source": [
        "model.compile(loss=losses.mean_squared_error,optimizer=sgd,metrics=[\"accuracy\"])"
      ],
      "execution_count": 0,
      "outputs": []
    },
    {
      "metadata": {
        "id": "IlWOFBLC7Hdn",
        "colab_type": "code",
        "collapsed": true,
        "outputId": "f18efba4-35ad-44cb-86a8-0a62378f6497",
        "colab": {
          "base_uri": "https://localhost:8080/",
          "height": 3597
        }
      },
      "cell_type": "code",
      "source": [
        "model.fit(x_train, y_train, validation_data=(x_val,y_val), epochs=100, batch_size=100)"
      ],
      "execution_count": 10,
      "outputs": [
        {
          "output_type": "stream",
          "text": [
            "WARNING:tensorflow:From /usr/local/lib/python2.7/dist-packages/tensorflow/python/ops/math_ops.py:3066: to_int32 (from tensorflow.python.ops.math_ops) is deprecated and will be removed in a future version.\n",
            "Instructions for updating:\n",
            "Use tf.cast instead.\n",
            "Train on 2449 samples, validate on 2449 samples\n",
            "Epoch 1/100\n",
            "2449/2449 [==============================] - 1s 431us/step - loss: 0.2841 - acc: 0.6378 - val_loss: 0.2335 - val_acc: 0.6627\n",
            "Epoch 2/100\n",
            "2449/2449 [==============================] - 0s 190us/step - loss: 0.2238 - acc: 0.6721 - val_loss: 0.2174 - val_acc: 0.6488\n",
            "Epoch 3/100\n",
            "2449/2449 [==============================] - 0s 180us/step - loss: 0.2143 - acc: 0.6737 - val_loss: 0.2141 - val_acc: 0.6644\n",
            "Epoch 4/100\n",
            "2449/2449 [==============================] - 0s 183us/step - loss: 0.2100 - acc: 0.6705 - val_loss: 0.2139 - val_acc: 0.6660\n",
            "Epoch 5/100\n",
            "2449/2449 [==============================] - 0s 183us/step - loss: 0.2051 - acc: 0.6840 - val_loss: 0.2203 - val_acc: 0.6525\n",
            "Epoch 6/100\n",
            "2449/2449 [==============================] - 0s 189us/step - loss: 0.2072 - acc: 0.6713 - val_loss: 0.2190 - val_acc: 0.6676\n",
            "Epoch 7/100\n",
            "2449/2449 [==============================] - 0s 183us/step - loss: 0.2013 - acc: 0.6840 - val_loss: 0.2079 - val_acc: 0.6668\n",
            "Epoch 8/100\n",
            "2449/2449 [==============================] - 0s 189us/step - loss: 0.2010 - acc: 0.6791 - val_loss: 0.2110 - val_acc: 0.6595\n",
            "Epoch 9/100\n",
            "2449/2449 [==============================] - 0s 176us/step - loss: 0.1998 - acc: 0.6864 - val_loss: 0.2066 - val_acc: 0.6664\n",
            "Epoch 10/100\n",
            "2449/2449 [==============================] - 0s 186us/step - loss: 0.2001 - acc: 0.6831 - val_loss: 0.2080 - val_acc: 0.6672\n",
            "Epoch 11/100\n",
            "2449/2449 [==============================] - 0s 181us/step - loss: 0.1982 - acc: 0.6893 - val_loss: 0.2062 - val_acc: 0.6693\n",
            "Epoch 12/100\n",
            "2449/2449 [==============================] - 0s 182us/step - loss: 0.1984 - acc: 0.6880 - val_loss: 0.2083 - val_acc: 0.6595\n",
            "Epoch 13/100\n",
            "2449/2449 [==============================] - 0s 192us/step - loss: 0.1975 - acc: 0.6876 - val_loss: 0.2069 - val_acc: 0.6672\n",
            "Epoch 14/100\n",
            "2449/2449 [==============================] - 0s 179us/step - loss: 0.1975 - acc: 0.6848 - val_loss: 0.2102 - val_acc: 0.6668\n",
            "Epoch 15/100\n",
            "2449/2449 [==============================] - 0s 183us/step - loss: 0.1976 - acc: 0.6901 - val_loss: 0.2049 - val_acc: 0.6656\n",
            "Epoch 16/100\n",
            "2449/2449 [==============================] - 0s 188us/step - loss: 0.1972 - acc: 0.6901 - val_loss: 0.2050 - val_acc: 0.6693\n",
            "Epoch 17/100\n",
            "2449/2449 [==============================] - 0s 178us/step - loss: 0.1968 - acc: 0.6844 - val_loss: 0.2068 - val_acc: 0.6697\n",
            "Epoch 18/100\n",
            "2449/2449 [==============================] - 0s 187us/step - loss: 0.1970 - acc: 0.6876 - val_loss: 0.2064 - val_acc: 0.6611\n",
            "Epoch 19/100\n",
            "2449/2449 [==============================] - 0s 181us/step - loss: 0.1969 - acc: 0.6864 - val_loss: 0.2046 - val_acc: 0.6611\n",
            "Epoch 20/100\n",
            "2449/2449 [==============================] - 0s 186us/step - loss: 0.1973 - acc: 0.6872 - val_loss: 0.2043 - val_acc: 0.6697\n",
            "Epoch 21/100\n",
            "2449/2449 [==============================] - 0s 185us/step - loss: 0.1966 - acc: 0.6884 - val_loss: 0.2072 - val_acc: 0.6656\n",
            "Epoch 22/100\n",
            "2449/2449 [==============================] - 0s 182us/step - loss: 0.1961 - acc: 0.6876 - val_loss: 0.2048 - val_acc: 0.6701\n",
            "Epoch 23/100\n",
            "2449/2449 [==============================] - 0s 186us/step - loss: 0.1958 - acc: 0.6897 - val_loss: 0.2058 - val_acc: 0.6603\n",
            "Epoch 24/100\n",
            "2449/2449 [==============================] - 0s 185us/step - loss: 0.1953 - acc: 0.6860 - val_loss: 0.2041 - val_acc: 0.6688\n",
            "Epoch 25/100\n",
            "2449/2449 [==============================] - 0s 190us/step - loss: 0.1955 - acc: 0.6876 - val_loss: 0.2052 - val_acc: 0.6676\n",
            "Epoch 26/100\n",
            "2449/2449 [==============================] - 0s 185us/step - loss: 0.1958 - acc: 0.6909 - val_loss: 0.2039 - val_acc: 0.6627\n",
            "Epoch 27/100\n",
            "2449/2449 [==============================] - 0s 180us/step - loss: 0.1955 - acc: 0.6872 - val_loss: 0.2038 - val_acc: 0.6697\n",
            "Epoch 28/100\n",
            "2449/2449 [==============================] - 0s 179us/step - loss: 0.1952 - acc: 0.6897 - val_loss: 0.2035 - val_acc: 0.6693\n",
            "Epoch 29/100\n",
            "2449/2449 [==============================] - 0s 185us/step - loss: 0.1950 - acc: 0.6884 - val_loss: 0.2034 - val_acc: 0.6684\n",
            "Epoch 30/100\n",
            "2449/2449 [==============================] - 0s 190us/step - loss: 0.1950 - acc: 0.6897 - val_loss: 0.2034 - val_acc: 0.6701\n",
            "Epoch 31/100\n",
            "2449/2449 [==============================] - 0s 188us/step - loss: 0.1946 - acc: 0.6901 - val_loss: 0.2064 - val_acc: 0.6660\n",
            "Epoch 32/100\n",
            "2449/2449 [==============================] - 0s 181us/step - loss: 0.1952 - acc: 0.6884 - val_loss: 0.2048 - val_acc: 0.6578\n",
            "Epoch 33/100\n",
            "2449/2449 [==============================] - 0s 192us/step - loss: 0.1947 - acc: 0.6913 - val_loss: 0.2031 - val_acc: 0.6717\n",
            "Epoch 34/100\n",
            "2449/2449 [==============================] - 0s 191us/step - loss: 0.1948 - acc: 0.6946 - val_loss: 0.2030 - val_acc: 0.6684\n",
            "Epoch 35/100\n",
            "2449/2449 [==============================] - 0s 196us/step - loss: 0.1948 - acc: 0.6893 - val_loss: 0.2036 - val_acc: 0.6688\n",
            "Epoch 36/100\n",
            "2449/2449 [==============================] - 0s 192us/step - loss: 0.1946 - acc: 0.6893 - val_loss: 0.2037 - val_acc: 0.6693\n",
            "Epoch 37/100\n",
            "2449/2449 [==============================] - 0s 187us/step - loss: 0.1946 - acc: 0.6897 - val_loss: 0.2033 - val_acc: 0.6615\n",
            "Epoch 38/100\n",
            "2449/2449 [==============================] - 0s 193us/step - loss: 0.1945 - acc: 0.6909 - val_loss: 0.2028 - val_acc: 0.6676\n",
            "Epoch 39/100\n",
            "2449/2449 [==============================] - 0s 186us/step - loss: 0.1944 - acc: 0.6913 - val_loss: 0.2028 - val_acc: 0.6656\n",
            "Epoch 40/100\n",
            "2449/2449 [==============================] - 0s 190us/step - loss: 0.1946 - acc: 0.6876 - val_loss: 0.2029 - val_acc: 0.6631\n",
            "Epoch 41/100\n",
            "2449/2449 [==============================] - 0s 187us/step - loss: 0.1941 - acc: 0.6913 - val_loss: 0.2037 - val_acc: 0.6582\n",
            "Epoch 42/100\n",
            "2449/2449 [==============================] - 0s 188us/step - loss: 0.1943 - acc: 0.6852 - val_loss: 0.2027 - val_acc: 0.6660\n",
            "Epoch 43/100\n",
            "2449/2449 [==============================] - 0s 185us/step - loss: 0.1941 - acc: 0.6901 - val_loss: 0.2028 - val_acc: 0.6705\n",
            "Epoch 44/100\n",
            "2449/2449 [==============================] - 0s 189us/step - loss: 0.1941 - acc: 0.6917 - val_loss: 0.2026 - val_acc: 0.6660\n",
            "Epoch 45/100\n",
            "2449/2449 [==============================] - 0s 189us/step - loss: 0.1940 - acc: 0.6921 - val_loss: 0.2025 - val_acc: 0.6668\n",
            "Epoch 46/100\n",
            "2449/2449 [==============================] - 0s 182us/step - loss: 0.1940 - acc: 0.6880 - val_loss: 0.2029 - val_acc: 0.6599\n",
            "Epoch 47/100\n",
            "2449/2449 [==============================] - 0s 189us/step - loss: 0.1940 - acc: 0.6909 - val_loss: 0.2025 - val_acc: 0.6668\n",
            "Epoch 48/100\n",
            "2449/2449 [==============================] - 0s 195us/step - loss: 0.1939 - acc: 0.6901 - val_loss: 0.2026 - val_acc: 0.6639\n",
            "Epoch 49/100\n",
            "2449/2449 [==============================] - 0s 187us/step - loss: 0.1939 - acc: 0.6893 - val_loss: 0.2025 - val_acc: 0.6644\n",
            "Epoch 50/100\n",
            "2449/2449 [==============================] - 0s 197us/step - loss: 0.1940 - acc: 0.6880 - val_loss: 0.2025 - val_acc: 0.6688\n",
            "Epoch 51/100\n",
            "2449/2449 [==============================] - 0s 197us/step - loss: 0.1940 - acc: 0.6872 - val_loss: 0.2023 - val_acc: 0.6676\n",
            "Epoch 52/100\n",
            "2449/2449 [==============================] - 0s 193us/step - loss: 0.1939 - acc: 0.6897 - val_loss: 0.2024 - val_acc: 0.6664\n",
            "Epoch 53/100\n",
            "2449/2449 [==============================] - 0s 189us/step - loss: 0.1937 - acc: 0.6901 - val_loss: 0.2027 - val_acc: 0.6611\n",
            "Epoch 54/100\n",
            "2449/2449 [==============================] - 0s 194us/step - loss: 0.1936 - acc: 0.6958 - val_loss: 0.2023 - val_acc: 0.6672\n",
            "Epoch 55/100\n",
            "2449/2449 [==============================] - 0s 196us/step - loss: 0.1938 - acc: 0.6905 - val_loss: 0.2026 - val_acc: 0.6611\n",
            "Epoch 56/100\n",
            "2449/2449 [==============================] - 0s 196us/step - loss: 0.1938 - acc: 0.6905 - val_loss: 0.2023 - val_acc: 0.6672\n",
            "Epoch 57/100\n",
            "2449/2449 [==============================] - 0s 187us/step - loss: 0.1938 - acc: 0.6893 - val_loss: 0.2023 - val_acc: 0.6672\n",
            "Epoch 58/100\n",
            "2449/2449 [==============================] - 0s 189us/step - loss: 0.1937 - acc: 0.6925 - val_loss: 0.2022 - val_acc: 0.6680\n",
            "Epoch 59/100\n",
            "2449/2449 [==============================] - 0s 186us/step - loss: 0.1936 - acc: 0.6925 - val_loss: 0.2023 - val_acc: 0.6639\n",
            "Epoch 60/100\n",
            "2449/2449 [==============================] - 0s 187us/step - loss: 0.1935 - acc: 0.6913 - val_loss: 0.2023 - val_acc: 0.6705\n",
            "Epoch 61/100\n",
            "2449/2449 [==============================] - 0s 186us/step - loss: 0.1935 - acc: 0.6921 - val_loss: 0.2022 - val_acc: 0.6672\n",
            "Epoch 62/100\n",
            "2449/2449 [==============================] - 1s 254us/step - loss: 0.1934 - acc: 0.6909 - val_loss: 0.2022 - val_acc: 0.6672\n",
            "Epoch 63/100\n",
            "2449/2449 [==============================] - 0s 194us/step - loss: 0.1934 - acc: 0.6889 - val_loss: 0.2022 - val_acc: 0.6664\n",
            "Epoch 64/100\n",
            "2449/2449 [==============================] - 0s 195us/step - loss: 0.1935 - acc: 0.6909 - val_loss: 0.2021 - val_acc: 0.6676\n",
            "Epoch 65/100\n",
            "2449/2449 [==============================] - 0s 195us/step - loss: 0.1935 - acc: 0.6909 - val_loss: 0.2020 - val_acc: 0.6664\n",
            "Epoch 66/100\n",
            "2449/2449 [==============================] - 0s 189us/step - loss: 0.1933 - acc: 0.6929 - val_loss: 0.2020 - val_acc: 0.6676\n",
            "Epoch 67/100\n",
            "2449/2449 [==============================] - 0s 195us/step - loss: 0.1934 - acc: 0.6897 - val_loss: 0.2021 - val_acc: 0.6701\n",
            "Epoch 68/100\n",
            "2449/2449 [==============================] - 0s 191us/step - loss: 0.1933 - acc: 0.6909 - val_loss: 0.2020 - val_acc: 0.6680\n",
            "Epoch 69/100\n",
            "2449/2449 [==============================] - 0s 203us/step - loss: 0.1931 - acc: 0.6913 - val_loss: 0.2024 - val_acc: 0.6615\n",
            "Epoch 70/100\n",
            "2449/2449 [==============================] - 0s 190us/step - loss: 0.1933 - acc: 0.6938 - val_loss: 0.2020 - val_acc: 0.6664\n",
            "Epoch 71/100\n",
            "2449/2449 [==============================] - 0s 190us/step - loss: 0.1933 - acc: 0.6921 - val_loss: 0.2019 - val_acc: 0.6676\n",
            "Epoch 72/100\n",
            "2449/2449 [==============================] - 0s 194us/step - loss: 0.1931 - acc: 0.6929 - val_loss: 0.2020 - val_acc: 0.6684\n",
            "Epoch 73/100\n",
            "2449/2449 [==============================] - 0s 189us/step - loss: 0.1932 - acc: 0.6909 - val_loss: 0.2019 - val_acc: 0.6668\n",
            "Epoch 74/100\n",
            "2449/2449 [==============================] - 0s 189us/step - loss: 0.1932 - acc: 0.6889 - val_loss: 0.2022 - val_acc: 0.6631\n",
            "Epoch 75/100\n",
            "2449/2449 [==============================] - 0s 193us/step - loss: 0.1933 - acc: 0.6917 - val_loss: 0.2022 - val_acc: 0.6627\n",
            "Epoch 76/100\n",
            "2449/2449 [==============================] - 0s 184us/step - loss: 0.1931 - acc: 0.6933 - val_loss: 0.2019 - val_acc: 0.6664\n",
            "Epoch 77/100\n",
            "2449/2449 [==============================] - 0s 187us/step - loss: 0.1930 - acc: 0.6929 - val_loss: 0.2019 - val_acc: 0.6693\n",
            "Epoch 78/100\n",
            "2449/2449 [==============================] - 0s 185us/step - loss: 0.1931 - acc: 0.6909 - val_loss: 0.2018 - val_acc: 0.6668\n",
            "Epoch 79/100\n",
            "2449/2449 [==============================] - 0s 191us/step - loss: 0.1931 - acc: 0.6909 - val_loss: 0.2019 - val_acc: 0.6660\n",
            "Epoch 80/100\n",
            "2449/2449 [==============================] - 0s 190us/step - loss: 0.1931 - acc: 0.6913 - val_loss: 0.2019 - val_acc: 0.6672\n",
            "Epoch 81/100\n",
            "2449/2449 [==============================] - 0s 182us/step - loss: 0.1929 - acc: 0.6946 - val_loss: 0.2021 - val_acc: 0.6705\n",
            "Epoch 82/100\n",
            "2449/2449 [==============================] - 0s 181us/step - loss: 0.1932 - acc: 0.6897 - val_loss: 0.2018 - val_acc: 0.6680\n",
            "Epoch 83/100\n",
            "2449/2449 [==============================] - 0s 187us/step - loss: 0.1929 - acc: 0.6917 - val_loss: 0.2018 - val_acc: 0.6668\n",
            "Epoch 84/100\n",
            "2449/2449 [==============================] - 0s 186us/step - loss: 0.1930 - acc: 0.6958 - val_loss: 0.2019 - val_acc: 0.6635\n",
            "Epoch 85/100\n",
            "2449/2449 [==============================] - 0s 193us/step - loss: 0.1930 - acc: 0.6933 - val_loss: 0.2018 - val_acc: 0.6672\n",
            "Epoch 86/100\n",
            "2449/2449 [==============================] - 1s 208us/step - loss: 0.1928 - acc: 0.6897 - val_loss: 0.2017 - val_acc: 0.6668\n",
            "Epoch 87/100\n",
            "2449/2449 [==============================] - 0s 190us/step - loss: 0.1928 - acc: 0.6905 - val_loss: 0.2018 - val_acc: 0.6660\n",
            "Epoch 88/100\n",
            "2449/2449 [==============================] - 0s 193us/step - loss: 0.1928 - acc: 0.6933 - val_loss: 0.2017 - val_acc: 0.6688\n",
            "Epoch 89/100\n",
            "2449/2449 [==============================] - 0s 195us/step - loss: 0.1928 - acc: 0.6897 - val_loss: 0.2019 - val_acc: 0.6644\n",
            "Epoch 90/100\n",
            "2449/2449 [==============================] - 0s 189us/step - loss: 0.1928 - acc: 0.6929 - val_loss: 0.2018 - val_acc: 0.6639\n",
            "Epoch 91/100\n",
            "2449/2449 [==============================] - 0s 182us/step - loss: 0.1928 - acc: 0.6925 - val_loss: 0.2017 - val_acc: 0.6688\n",
            "Epoch 92/100\n",
            "2449/2449 [==============================] - 0s 183us/step - loss: 0.1929 - acc: 0.6921 - val_loss: 0.2017 - val_acc: 0.6668\n",
            "Epoch 93/100\n",
            "2449/2449 [==============================] - 0s 183us/step - loss: 0.1928 - acc: 0.6921 - val_loss: 0.2017 - val_acc: 0.6652\n",
            "Epoch 94/100\n",
            "2449/2449 [==============================] - 0s 185us/step - loss: 0.1928 - acc: 0.6909 - val_loss: 0.2017 - val_acc: 0.6688\n",
            "Epoch 95/100\n",
            "2449/2449 [==============================] - 0s 184us/step - loss: 0.1928 - acc: 0.6917 - val_loss: 0.2017 - val_acc: 0.6672\n",
            "Epoch 96/100\n",
            "2449/2449 [==============================] - 0s 197us/step - loss: 0.1928 - acc: 0.6901 - val_loss: 0.2017 - val_acc: 0.6648\n",
            "Epoch 97/100\n",
            "2449/2449 [==============================] - 0s 198us/step - loss: 0.1928 - acc: 0.6913 - val_loss: 0.2017 - val_acc: 0.6652\n",
            "Epoch 98/100\n",
            "2449/2449 [==============================] - 0s 195us/step - loss: 0.1927 - acc: 0.6942 - val_loss: 0.2017 - val_acc: 0.6660\n",
            "Epoch 99/100\n",
            "2449/2449 [==============================] - 0s 195us/step - loss: 0.1928 - acc: 0.6901 - val_loss: 0.2017 - val_acc: 0.6660\n",
            "Epoch 100/100\n",
            "2449/2449 [==============================] - 0s 192us/step - loss: 0.1927 - acc: 0.6909 - val_loss: 0.2016 - val_acc: 0.6688\n"
          ],
          "name": "stdout"
        },
        {
          "output_type": "execute_result",
          "data": {
            "text/plain": [
              "<keras.callbacks.History at 0x7fa100076090>"
            ]
          },
          "metadata": {
            "tags": []
          },
          "execution_count": 10
        }
      ]
    },
    {
      "metadata": {
        "id": "6SrftoiG7Hdr",
        "colab_type": "code",
        "outputId": "6b8bd126-cb5b-4356-eff5-6e9f7ca0245f",
        "colab": {}
      },
      "cell_type": "code",
      "source": [
        "score= model.evaluate(x_test, y_test, batch_size=128)\n",
        "score"
      ],
      "execution_count": 0,
      "outputs": [
        {
          "output_type": "stream",
          "text": [
            "980/980 [==============================] - 0s 22us/step\n"
          ],
          "name": "stdout"
        },
        {
          "output_type": "execute_result",
          "data": {
            "text/plain": [
              "[0.19764505381486855, 0.665306125611675]"
            ]
          },
          "metadata": {
            "tags": []
          },
          "execution_count": 43
        }
      ]
    },
    {
      "metadata": {
        "id": "jvWw_1nF7Hdu",
        "colab_type": "code",
        "colab": {}
      },
      "cell_type": "code",
      "source": [
        ""
      ],
      "execution_count": 0,
      "outputs": []
    },
    {
      "metadata": {
        "id": "LJiK0Yvt7Hdw",
        "colab_type": "code",
        "colab": {}
      },
      "cell_type": "code",
      "source": [
        ""
      ],
      "execution_count": 0,
      "outputs": []
    }
  ]
}