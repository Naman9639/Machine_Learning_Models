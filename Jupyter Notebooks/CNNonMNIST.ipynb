{
 "cells": [
  {
   "cell_type": "code",
   "execution_count": 0,
   "metadata": {
    "colab": {},
    "colab_type": "code",
    "id": "2rQUU2ZO2dJX"
   },
   "outputs": [],
   "source": [
    "import keras\n",
    "\n",
    "import matplotlib.pyplot as plt\n",
    "from  keras.datasets import mnist\n",
    "from sklearn.model_selection import train_test_split\n",
    "from keras import backend as K"
   ]
  },
  {
   "cell_type": "code",
   "execution_count": 0,
   "metadata": {
    "colab": {},
    "colab_type": "code",
    "id": "CSDHd364dpZ6"
   },
   "outputs": [],
   "source": [
    "nclasses=10\n",
    "b_size=256\n",
    "nepochs = 50"
   ]
  },
  {
   "cell_type": "code",
   "execution_count": 14,
   "metadata": {
    "colab": {
     "base_uri": "https://localhost:8080/",
     "height": 34
    },
    "colab_type": "code",
    "id": "31glxgyp2pFE",
    "outputId": "5a50bab2-310d-4f0d-a48b-d4563b84ef8a"
   },
   "outputs": [
    {
     "name": "stdout",
     "output_type": "stream",
     "text": [
      "(45000, 10)\n"
     ]
    }
   ],
   "source": [
    "(x_train, y_train), (x_test, y_test) = mnist.load_data()\n",
    "\n",
    "img_rows = 28\n",
    "img_cols = 28\n",
    "\n",
    "if K.image_data_format() == 'channels_first':\n",
    "    x_train = x_train.reshape(x_train.shape[0], 1, img_rows, img_cols)\n",
    "    x_test = x_test.reshape(x_test.shape[0], 1, img_rows, img_cols)\n",
    "    input_shape = (1, img_rows, img_cols)\n",
    "else:\n",
    "    x_train = x_train.reshape(x_train.shape[0], img_rows, img_cols, 1)\n",
    "    x_test = x_test.reshape(x_test.shape[0], img_rows, img_cols, 1)\n",
    "    input_shape = (img_rows, img_cols, 1)\n",
    "\n",
    "y_train = keras.utils.to_categorical(y_train, nclasses)\n",
    "y_test = keras.utils.to_categorical(y_test, nclasses)\n",
    "\n",
    "x_train, x_val, y_train, y_val = train_test_split(x_train,y_train,test_size = 0.25)\n",
    "print(y_train.shape)"
   ]
  },
  {
   "cell_type": "code",
   "execution_count": 0,
   "metadata": {
    "colab": {},
    "colab_type": "code",
    "id": "7cp7lgHo4feh"
   },
   "outputs": [],
   "source": [
    "from keras.layers import Dense, Conv2D, Dropout, MaxPooling2D, Flatten\n",
    "from keras.models import Sequential"
   ]
  },
  {
   "cell_type": "code",
   "execution_count": 16,
   "metadata": {
    "colab": {
     "base_uri": "https://localhost:8080/",
     "height": 607
    },
    "colab_type": "code",
    "id": "UJLBwR475Cgu",
    "outputId": "47d1b3a5-70ff-4c26-9345-93c6b8c24ad7"
   },
   "outputs": [
    {
     "name": "stdout",
     "output_type": "stream",
     "text": [
      "_________________________________________________________________\n",
      "Layer (type)                 Output Shape              Param #   \n",
      "=================================================================\n",
      "conv2d_4 (Conv2D)            (None, 28, 28, 32)        320       \n",
      "_________________________________________________________________\n",
      "max_pooling2d_4 (MaxPooling2 (None, 14, 14, 32)        0         \n",
      "_________________________________________________________________\n",
      "dropout_5 (Dropout)          (None, 14, 14, 32)        0         \n",
      "_________________________________________________________________\n",
      "conv2d_5 (Conv2D)            (None, 7, 7, 64)          18496     \n",
      "_________________________________________________________________\n",
      "max_pooling2d_5 (MaxPooling2 (None, 3, 3, 64)          0         \n",
      "_________________________________________________________________\n",
      "dropout_6 (Dropout)          (None, 3, 3, 64)          0         \n",
      "_________________________________________________________________\n",
      "conv2d_6 (Conv2D)            (None, 3, 3, 32)          18464     \n",
      "_________________________________________________________________\n",
      "max_pooling2d_6 (MaxPooling2 (None, 1, 1, 32)          0         \n",
      "_________________________________________________________________\n",
      "dropout_7 (Dropout)          (None, 1, 1, 32)          0         \n",
      "_________________________________________________________________\n",
      "flatten_2 (Flatten)          (None, 32)                0         \n",
      "_________________________________________________________________\n",
      "dense_3 (Dense)              (None, 256)               8448      \n",
      "_________________________________________________________________\n",
      "dropout_8 (Dropout)          (None, 256)               0         \n",
      "_________________________________________________________________\n",
      "dense_4 (Dense)              (None, 10)                2570      \n",
      "=================================================================\n",
      "Total params: 48,298\n",
      "Trainable params: 48,298\n",
      "Non-trainable params: 0\n",
      "_________________________________________________________________\n",
      "None\n"
     ]
    }
   ],
   "source": [
    "model = Sequential()\n",
    "\n",
    "model.add(Conv2D(32,(3,3),strides=(1,1),padding = 'same', activation = 'relu', input_shape=input_shape))\n",
    "model.add(MaxPooling2D(pool_size=(2, 2), strides=None, padding='valid'))\n",
    "model.add(Dropout(0.2))\n",
    "\n",
    "model.add(Conv2D(64,(3,3),strides=(2,2),padding = 'same', activation = 'relu'))\n",
    "model.add(MaxPooling2D(pool_size=(2, 2), strides=None, padding='valid'))\n",
    "model.add(Dropout(0.2))\n",
    "\n",
    "model.add(Conv2D(32,(3,3),strides=(1,1),padding = 'same', activation = 'relu'))\n",
    "model.add(MaxPooling2D(pool_size=(2, 2), strides=None, padding='valid'))\n",
    "model.add(Dropout(0.2))\n",
    "\n",
    "model.add(Flatten())\n",
    "model.add(Dense(256, activation='relu'))\n",
    "model.add(Dropout(0.25))\n",
    "model.add(Dense(nclasses, activation='softmax'))\n",
    "\n",
    "print(model.summary())"
   ]
  },
  {
   "cell_type": "code",
   "execution_count": 0,
   "metadata": {
    "colab": {},
    "colab_type": "code",
    "id": "xljl9Rj9PaDH"
   },
   "outputs": [],
   "source": [
    "model.compile(loss='categorical_crossentropy',\n",
    "              optimizer = 'adam',\n",
    "              metrics = ['accuracy'])"
   ]
  },
  {
   "cell_type": "code",
   "execution_count": 18,
   "metadata": {
    "colab": {
     "base_uri": "https://localhost:8080/",
     "height": 1823
    },
    "colab_type": "code",
    "id": "xa-HnBp2PyHc",
    "outputId": "3f871cd7-b3c4-455a-972e-de1e202b27d3"
   },
   "outputs": [
    {
     "name": "stdout",
     "output_type": "stream",
     "text": [
      "WARNING:tensorflow:From /usr/local/lib/python3.6/dist-packages/tensorflow/python/ops/math_ops.py:3066: to_int32 (from tensorflow.python.ops.math_ops) is deprecated and will be removed in a future version.\n",
      "Instructions for updating:\n",
      "Use tf.cast instead.\n",
      "Train on 45000 samples, validate on 15000 samples\n",
      "Epoch 1/50\n",
      "45000/45000 [==============================] - 5s 110us/step - loss: 2.3991 - acc: 0.2848 - val_loss: 1.2485 - val_acc: 0.5815\n",
      "Epoch 2/50\n",
      "45000/45000 [==============================] - 3s 66us/step - loss: 1.0842 - acc: 0.6069 - val_loss: 0.3393 - val_acc: 0.9097\n",
      "Epoch 3/50\n",
      "45000/45000 [==============================] - 3s 66us/step - loss: 0.5493 - acc: 0.8172 - val_loss: 0.1726 - val_acc: 0.9532\n",
      "Epoch 4/50\n",
      "45000/45000 [==============================] - 3s 66us/step - loss: 0.3697 - acc: 0.8836 - val_loss: 0.1328 - val_acc: 0.9617\n",
      "Epoch 5/50\n",
      "45000/45000 [==============================] - 3s 67us/step - loss: 0.2868 - acc: 0.9090 - val_loss: 0.1133 - val_acc: 0.9688\n",
      "Epoch 6/50\n",
      "45000/45000 [==============================] - 3s 66us/step - loss: 0.2312 - acc: 0.9282 - val_loss: 0.0943 - val_acc: 0.9711\n",
      "Epoch 7/50\n",
      "45000/45000 [==============================] - 3s 66us/step - loss: 0.2060 - acc: 0.9370 - val_loss: 0.0919 - val_acc: 0.9724\n",
      "Epoch 8/50\n",
      "45000/45000 [==============================] - 3s 66us/step - loss: 0.1834 - acc: 0.9445 - val_loss: 0.0789 - val_acc: 0.9766\n",
      "Epoch 9/50\n",
      "45000/45000 [==============================] - 3s 65us/step - loss: 0.1617 - acc: 0.9508 - val_loss: 0.0705 - val_acc: 0.9793\n",
      "Epoch 10/50\n",
      "45000/45000 [==============================] - 3s 65us/step - loss: 0.1513 - acc: 0.9536 - val_loss: 0.0664 - val_acc: 0.9810\n",
      "Epoch 11/50\n",
      "45000/45000 [==============================] - 3s 65us/step - loss: 0.1401 - acc: 0.9562 - val_loss: 0.0654 - val_acc: 0.9807\n",
      "Epoch 12/50\n",
      "45000/45000 [==============================] - 3s 64us/step - loss: 0.1313 - acc: 0.9594 - val_loss: 0.0607 - val_acc: 0.9819\n",
      "Epoch 13/50\n",
      "45000/45000 [==============================] - 3s 65us/step - loss: 0.1230 - acc: 0.9622 - val_loss: 0.0596 - val_acc: 0.9814\n",
      "Epoch 14/50\n",
      "45000/45000 [==============================] - 3s 65us/step - loss: 0.1182 - acc: 0.9634 - val_loss: 0.0569 - val_acc: 0.9825\n",
      "Epoch 15/50\n",
      "45000/45000 [==============================] - 3s 66us/step - loss: 0.1193 - acc: 0.9630 - val_loss: 0.0562 - val_acc: 0.9835\n",
      "Epoch 16/50\n",
      "45000/45000 [==============================] - 3s 65us/step - loss: 0.1062 - acc: 0.9677 - val_loss: 0.0579 - val_acc: 0.9833\n",
      "Epoch 17/50\n",
      "45000/45000 [==============================] - 3s 65us/step - loss: 0.1061 - acc: 0.9678 - val_loss: 0.0555 - val_acc: 0.9837\n",
      "Epoch 18/50\n",
      "45000/45000 [==============================] - 3s 65us/step - loss: 0.1068 - acc: 0.9676 - val_loss: 0.0524 - val_acc: 0.9845\n",
      "Epoch 19/50\n",
      "45000/45000 [==============================] - 3s 65us/step - loss: 0.1000 - acc: 0.9696 - val_loss: 0.0518 - val_acc: 0.9851\n",
      "Epoch 20/50\n",
      "45000/45000 [==============================] - 3s 65us/step - loss: 0.0986 - acc: 0.9696 - val_loss: 0.0519 - val_acc: 0.9847\n",
      "Epoch 21/50\n",
      "45000/45000 [==============================] - 3s 66us/step - loss: 0.0984 - acc: 0.9704 - val_loss: 0.0559 - val_acc: 0.9826\n",
      "Epoch 22/50\n",
      "45000/45000 [==============================] - 3s 65us/step - loss: 0.0927 - acc: 0.9704 - val_loss: 0.0506 - val_acc: 0.9839\n",
      "Epoch 23/50\n",
      "45000/45000 [==============================] - 3s 65us/step - loss: 0.0929 - acc: 0.9720 - val_loss: 0.0521 - val_acc: 0.9851\n",
      "Epoch 24/50\n",
      "45000/45000 [==============================] - 3s 65us/step - loss: 0.0898 - acc: 0.9721 - val_loss: 0.0483 - val_acc: 0.9863\n",
      "Epoch 25/50\n",
      "45000/45000 [==============================] - 3s 66us/step - loss: 0.0895 - acc: 0.9723 - val_loss: 0.0486 - val_acc: 0.9852\n",
      "Epoch 26/50\n",
      "45000/45000 [==============================] - 4s 79us/step - loss: 0.0864 - acc: 0.9733 - val_loss: 0.0472 - val_acc: 0.9859\n",
      "Epoch 27/50\n",
      "45000/45000 [==============================] - 3s 68us/step - loss: 0.0870 - acc: 0.9726 - val_loss: 0.0511 - val_acc: 0.9846\n",
      "Epoch 28/50\n",
      "45000/45000 [==============================] - 3s 75us/step - loss: 0.0833 - acc: 0.9740 - val_loss: 0.0447 - val_acc: 0.9867\n",
      "Epoch 29/50\n",
      "45000/45000 [==============================] - 3s 66us/step - loss: 0.0856 - acc: 0.9735 - val_loss: 0.0473 - val_acc: 0.9851\n",
      "Epoch 30/50\n",
      "45000/45000 [==============================] - 3s 66us/step - loss: 0.0806 - acc: 0.9749 - val_loss: 0.0455 - val_acc: 0.9862\n",
      "Epoch 31/50\n",
      "45000/45000 [==============================] - 3s 66us/step - loss: 0.0774 - acc: 0.9761 - val_loss: 0.0468 - val_acc: 0.9859\n",
      "Epoch 32/50\n",
      "45000/45000 [==============================] - 3s 65us/step - loss: 0.0778 - acc: 0.9764 - val_loss: 0.0433 - val_acc: 0.9871\n",
      "Epoch 33/50\n",
      "45000/45000 [==============================] - 3s 64us/step - loss: 0.0743 - acc: 0.9775 - val_loss: 0.0443 - val_acc: 0.9866\n",
      "Epoch 34/50\n",
      "45000/45000 [==============================] - 3s 65us/step - loss: 0.0758 - acc: 0.9764 - val_loss: 0.0424 - val_acc: 0.9869\n",
      "Epoch 35/50\n",
      "45000/45000 [==============================] - 3s 66us/step - loss: 0.0798 - acc: 0.9755 - val_loss: 0.0476 - val_acc: 0.9871\n",
      "Epoch 36/50\n",
      "45000/45000 [==============================] - 3s 66us/step - loss: 0.0754 - acc: 0.9761 - val_loss: 0.0440 - val_acc: 0.9853\n",
      "Epoch 37/50\n",
      "45000/45000 [==============================] - 3s 65us/step - loss: 0.0742 - acc: 0.9768 - val_loss: 0.0447 - val_acc: 0.9865\n",
      "Epoch 38/50\n",
      "45000/45000 [==============================] - 3s 64us/step - loss: 0.0742 - acc: 0.9766 - val_loss: 0.0455 - val_acc: 0.9851\n",
      "Epoch 39/50\n",
      "45000/45000 [==============================] - 3s 64us/step - loss: 0.0694 - acc: 0.9786 - val_loss: 0.0423 - val_acc: 0.9867\n",
      "Epoch 40/50\n",
      "45000/45000 [==============================] - 3s 64us/step - loss: 0.0676 - acc: 0.9800 - val_loss: 0.0466 - val_acc: 0.9856\n",
      "Epoch 41/50\n",
      "45000/45000 [==============================] - 3s 65us/step - loss: 0.0683 - acc: 0.9790 - val_loss: 0.0437 - val_acc: 0.9855\n",
      "Epoch 42/50\n",
      "45000/45000 [==============================] - 3s 64us/step - loss: 0.0701 - acc: 0.9783 - val_loss: 0.0477 - val_acc: 0.9855\n",
      "Epoch 43/50\n",
      "45000/45000 [==============================] - 3s 65us/step - loss: 0.0675 - acc: 0.9792 - val_loss: 0.0440 - val_acc: 0.9865\n",
      "Epoch 44/50\n",
      "45000/45000 [==============================] - 3s 64us/step - loss: 0.0696 - acc: 0.9785 - val_loss: 0.0419 - val_acc: 0.9863\n",
      "Epoch 45/50\n",
      "45000/45000 [==============================] - 3s 64us/step - loss: 0.0671 - acc: 0.9787 - val_loss: 0.0472 - val_acc: 0.9853\n",
      "Epoch 46/50\n",
      "45000/45000 [==============================] - 3s 65us/step - loss: 0.0630 - acc: 0.9802 - val_loss: 0.0440 - val_acc: 0.9864\n",
      "Epoch 47/50\n",
      "45000/45000 [==============================] - 3s 65us/step - loss: 0.0675 - acc: 0.9789 - val_loss: 0.0437 - val_acc: 0.9871\n",
      "Epoch 48/50\n",
      "45000/45000 [==============================] - 3s 64us/step - loss: 0.0652 - acc: 0.9804 - val_loss: 0.0487 - val_acc: 0.9860\n",
      "Epoch 49/50\n",
      "45000/45000 [==============================] - 3s 65us/step - loss: 0.0652 - acc: 0.9802 - val_loss: 0.0435 - val_acc: 0.9873\n",
      "Epoch 50/50\n",
      "45000/45000 [==============================] - 3s 64us/step - loss: 0.0638 - acc: 0.9807 - val_loss: 0.0417 - val_acc: 0.9870\n"
     ]
    }
   ],
   "source": [
    "hist = model.fit(x_train, y_train, validation_data=(x_val,y_val), epochs=nepochs, batch_size=b_size)"
   ]
  },
  {
   "cell_type": "code",
   "execution_count": 19,
   "metadata": {
    "colab": {
     "base_uri": "https://localhost:8080/",
     "height": 52
    },
    "colab_type": "code",
    "id": "1Lt5xDMBPyOZ",
    "outputId": "28f85cde-a1aa-44ab-8286-fef8dc901bd9"
   },
   "outputs": [
    {
     "name": "stdout",
     "output_type": "stream",
     "text": [
      "10000/10000 [==============================] - 0s 28us/step\n"
     ]
    },
    {
     "data": {
      "text/plain": [
       "[0.03614757605483755, 0.9899]"
      ]
     },
     "execution_count": 19,
     "metadata": {
      "tags": []
     },
     "output_type": "execute_result"
    }
   ],
   "source": [
    "score= model.evaluate(x_test, y_test, batch_size=128)\n",
    "score"
   ]
  },
  {
   "cell_type": "code",
   "execution_count": 20,
   "metadata": {
    "colab": {
     "base_uri": "https://localhost:8080/",
     "height": 34
    },
    "colab_type": "code",
    "id": "FIthoIcveQrM",
    "outputId": "21dfd8ee-8518-4c3c-896e-00fb2576b017"
   },
   "outputs": [
    {
     "name": "stdout",
     "output_type": "stream",
     "text": [
      "dict_keys(['val_loss', 'val_acc', 'loss', 'acc'])\n"
     ]
    }
   ],
   "source": [
    "print(hist.history.keys())"
   ]
  },
  {
   "cell_type": "code",
   "execution_count": 21,
   "metadata": {
    "colab": {
     "base_uri": "https://localhost:8080/",
     "height": 376
    },
    "colab_type": "code",
    "id": "OXBJ7Sh2PyTS",
    "outputId": "055be141-e3e9-40e1-bad0-56b40e8f21d1"
   },
   "outputs": [
    {
     "data": {
      "image/png": "[encoded data removed]",
      "text/plain": [
       "<Figure size 576x396 with 1 Axes>"
      ]
     },
     "metadata": {
      "tags": []
     },
     "output_type": "display_data"
    }
   ],
   "source": [
    "plt.plot(hist.history['acc'])\n",
    "plt.plot(hist.history['val_acc'])\n",
    "plt.title('model accuracy')\n",
    "plt.ylabel('accuracy')\n",
    "plt.xlabel('epoch')\n",
    "plt.legend(['train', 'test'], loc='upper left')\n",
    "plt.show()"
   ]
  },
  {
   "cell_type": "code",
   "execution_count": 22,
   "metadata": {
    "colab": {
     "base_uri": "https://localhost:8080/",
     "height": 376
    },
    "colab_type": "code",
    "id": "SsPOA-akPyWk",
    "outputId": "67d9e5c0-136b-49c8-fcec-930ed3ab4073"
   },
   "outputs": [
    {
     "data": {
      "image/png": "[encoded data removed]",
      "text/plain": [
       "<Figure size 576x396 with 1 Axes>"
      ]
     },
     "metadata": {
      "tags": []
     },
     "output_type": "display_data"
    }
   ],
   "source": [
    "plt.plot(hist.history['loss'])\n",
    "plt.plot(hist.history['val_loss'])\n",
    "plt.title('model loss')\n",
    "plt.ylabel('loss')\n",
    "plt.xlabel('epoch')\n",
    "plt.legend(['train', 'test'], loc='upper left')\n",
    "plt.show()"
   ]
  },
  {
   "cell_type": "code",
   "execution_count": 0,
   "metadata": {
    "colab": {},
    "colab_type": "code",
    "id": "lieBIa-HPyeC"
   },
   "outputs": [],
   "source": [
    "model.save('cnn.h5')a"
   ]
  },
  {
   "cell_type": "code",
   "execution_count": 0,
   "metadata": {
    "colab": {},
    "colab_type": "code",
    "id": "I31LwCaxi1S9"
   },
   "outputs": [],
   "source": []
  },
  {
   "cell_type": "code",
   "execution_count": 0,
   "metadata": {
    "colab": {},
    "colab_type": "code",
    "id": "j8jTjm9Ci1gW"
   },
   "outputs": [],
   "source": []
  },
  {
   "cell_type": "code",
   "execution_count": 0,
   "metadata": {
    "colab": {},
    "colab_type": "code",
    "id": "ysM67LH6P0ke"
   },
   "outputs": [],
   "source": []
  }
 ],
 "metadata": {
  "accelerator": "GPU",
  "colab": {
   "name": "firstcnn.ipynb",
   "provenance": [],
   "version": "0.3.2"
  },
  "kernelspec": {
   "display_name": "Python 3",
   "language": "python",
   "name": "python3"
  },
  "language_info": {
   "codemirror_mode": {
    "name": "ipython",
    "version": 3
   },
   "file_extension": ".py",
   "mimetype": "text/x-python",
   "name": "python",
   "nbconvert_exporter": "python",
   "pygments_lexer": "ipython3",
   "version": "3.7.1"
  }
 },
 "nbformat": 4,
 "nbformat_minor": 1
}
