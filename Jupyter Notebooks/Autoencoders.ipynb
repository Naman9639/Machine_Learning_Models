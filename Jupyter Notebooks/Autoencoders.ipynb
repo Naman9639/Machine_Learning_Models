{
  "nbformat": 4,
  "nbformat_minor": 0,
  "metadata": {
    "colab": {
      "name": "Autoencoders.ipynb",
      "version": "0.3.2",
      "provenance": []
    },
    "kernelspec": {
      "name": "python3",
      "display_name": "Python 3"
    },
    "accelerator": "GPU"
  },
  "cells": [
    {
      "metadata": {
        "id": "Ar7p0m3sC8b5",
        "colab_type": "code",
        "outputId": "50e5f26a-9420-49cd-bd3c-9bc1102ee268",
        "colab": {
          "base_uri": "https://localhost:8080/",
          "height": 34
        }
      },
      "cell_type": "code",
      "source": [
        "#importing the packages needed\n",
        "import keras\n",
        "import numpy as np\n",
        "import matplotlib.pyplot as plt\n",
        "from keras.models import Model\n",
        "from keras.layers import Input\n",
        "from keras.optimizers import RMSprop"
      ],
      "execution_count": 1,
      "outputs": [
        {
          "output_type": "stream",
          "text": [
            "Using TensorFlow backend.\n"
          ],
          "name": "stderr"
        }
      ]
    },
    {
      "metadata": {
        "id": "TKGHZResDUJY",
        "colab_type": "code",
        "colab": {}
      },
      "cell_type": "code",
      "source": [
        "#Loading Input and test data\n",
        "from keras.datasets import mnist \n",
        "(x_train, _), (x_test, _) = mnist.load_data()\n",
        "x_train = np.reshape(x_train, (len(x_train), 28, 28, 1))\n",
        "x_test = np.reshape(x_test, (len(x_test), 28, 28, 1))"
      ],
      "execution_count": 0,
      "outputs": []
    },
    {
      "metadata": {
        "id": "Qo5bz6zyE8o2",
        "colab_type": "code",
        "outputId": "91e7bf2b-820d-49d8-c8c0-264f24d55dec",
        "colab": {
          "base_uri": "https://localhost:8080/",
          "height": 714
        }
      },
      "cell_type": "code",
      "source": [
        "#defining mmodel\n",
        "\n",
        "x_input = Input(shape = (28,28,1))\n",
        "x = keras.layers.Conv2D(16,(3,3),strides=(1,1), padding='same', activation = 'relu')(x_input)\n",
        "x = keras.layers.UpSampling2D(size=(2,2))(x)\n",
        "x = keras.layers.Conv2D(32,(3,3),strides=(2,2), padding='same', activation = 'relu')(x)\n",
        "x = keras.layers.UpSampling2D(size=(3,3))(x)\n",
        "x = keras.layers.Conv2D(64,(3,3),strides=(3,3), padding='same', activation = 'relu')(x)\n",
        "x = keras.layers.UpSampling2D(size=(3,3))(x)\n",
        "x = keras.layers.Conv2D(64,(3,3),strides=(1,1), padding='same', activation = 'relu')(x)\n",
        "x = keras.layers.UpSampling2D(size=(2,2))(x)\n",
        "x = keras.layers.Conv2D(32,(3,3),strides=(2,2), padding='same', activation = 'relu')(x)\n",
        "x = keras.layers.Conv2D(16,(3,3),strides=(3,3), padding='same', activation = 'relu')(x)\n",
        "\n",
        "\n",
        "x = keras.layers.Conv2D(8,(3,3),strides=(1,1), padding='same', activation = 'relu')(x)\n",
        "x = keras.layers.Conv2D(4,(3,3),strides=(1,1), padding='same', activation = 'relu')(x)\n",
        "x = keras.layers.Conv2D(1,(3,3),strides=(1,1), padding='same', activation = 'sigmoid')(x)\n",
        "\n",
        "\n",
        "autoen = Model(inputs = x_input, outputs = x)\n",
        "\n",
        "print(autoen.summary())"
      ],
      "execution_count": 3,
      "outputs": [
        {
          "output_type": "stream",
          "text": [
            "WARNING:tensorflow:From /usr/local/lib/python3.6/dist-packages/tensorflow/python/framework/op_def_library.py:263: colocate_with (from tensorflow.python.framework.ops) is deprecated and will be removed in a future version.\n",
            "Instructions for updating:\n",
            "Colocations handled automatically by placer.\n",
            "_________________________________________________________________\n",
            "Layer (type)                 Output Shape              Param #   \n",
            "=================================================================\n",
            "input_1 (InputLayer)         (None, 28, 28, 1)         0         \n",
            "_________________________________________________________________\n",
            "conv2d_1 (Conv2D)            (None, 28, 28, 16)        160       \n",
            "_________________________________________________________________\n",
            "up_sampling2d_1 (UpSampling2 (None, 56, 56, 16)        0         \n",
            "_________________________________________________________________\n",
            "conv2d_2 (Conv2D)            (None, 28, 28, 32)        4640      \n",
            "_________________________________________________________________\n",
            "up_sampling2d_2 (UpSampling2 (None, 84, 84, 32)        0         \n",
            "_________________________________________________________________\n",
            "conv2d_3 (Conv2D)            (None, 28, 28, 64)        18496     \n",
            "_________________________________________________________________\n",
            "up_sampling2d_3 (UpSampling2 (None, 84, 84, 64)        0         \n",
            "_________________________________________________________________\n",
            "conv2d_4 (Conv2D)            (None, 84, 84, 64)        36928     \n",
            "_________________________________________________________________\n",
            "up_sampling2d_4 (UpSampling2 (None, 168, 168, 64)      0         \n",
            "_________________________________________________________________\n",
            "conv2d_5 (Conv2D)            (None, 84, 84, 32)        18464     \n",
            "_________________________________________________________________\n",
            "conv2d_6 (Conv2D)            (None, 28, 28, 16)        4624      \n",
            "_________________________________________________________________\n",
            "conv2d_7 (Conv2D)            (None, 28, 28, 8)         1160      \n",
            "_________________________________________________________________\n",
            "conv2d_8 (Conv2D)            (None, 28, 28, 4)         292       \n",
            "_________________________________________________________________\n",
            "conv2d_9 (Conv2D)            (None, 28, 28, 1)         37        \n",
            "=================================================================\n",
            "Total params: 84,801\n",
            "Trainable params: 84,801\n",
            "Non-trainable params: 0\n",
            "_________________________________________________________________\n",
            "None\n"
          ],
          "name": "stdout"
        }
      ]
    },
    {
      "metadata": {
        "id": "pi2y5l-yE806",
        "colab_type": "code",
        "colab": {}
      },
      "cell_type": "code",
      "source": [
        "autoen.compile(loss='mean_squared_error',\n",
        "              optimizer = RMSprop())"
      ],
      "execution_count": 0,
      "outputs": []
    },
    {
      "metadata": {
        "id": "9qqKxg6NJTwr",
        "colab_type": "code",
        "outputId": "0066ded0-84b5-434a-a981-168593c3a7f3",
        "colab": {
          "base_uri": "https://localhost:8080/",
          "height": 208
        }
      },
      "cell_type": "code",
      "source": [
        "autoen.fit(x_train, x_train, epochs=3, batch_size=32,\n",
        "               shuffle=True, validation_data=(x_test, x_test), verbose=1)"
      ],
      "execution_count": 5,
      "outputs": [
        {
          "output_type": "stream",
          "text": [
            "WARNING:tensorflow:From /usr/local/lib/python3.6/dist-packages/tensorflow/python/ops/math_ops.py:3066: to_int32 (from tensorflow.python.ops.math_ops) is deprecated and will be removed in a future version.\n",
            "Instructions for updating:\n",
            "Use tf.cast instead.\n",
            "Train on 60000 samples, validate on 10000 samples\n",
            "Epoch 1/3\n",
            "60000/60000 [==============================] - 305s 5ms/step - loss: 7216.5605 - val_loss: 7342.7618\n",
            "Epoch 2/3\n",
            "60000/60000 [==============================] - 256s 4ms/step - loss: 7216.6036 - val_loss: 7342.7668\n",
            "Epoch 3/3\n",
            "60000/60000 [==============================] - 254s 4ms/step - loss: 7216.5909 - val_loss: 7342.8441\n"
          ],
          "name": "stdout"
        },
        {
          "output_type": "execute_result",
          "data": {
            "text/plain": [
              "<keras.callbacks.History at 0x7f241cff9d68>"
            ]
          },
          "metadata": {
            "tags": []
          },
          "execution_count": 5
        }
      ]
    },
    {
      "metadata": {
        "id": "ouNMC04GKO-S",
        "colab_type": "code",
        "colab": {}
      },
      "cell_type": "code",
      "source": [
        "def show_imgs(x_test, decoded_imgs=None, n=10):\n",
        "    plt.figure(figsize=(20, 4))\n",
        "    for i in range(n):\n",
        "        ax = plt.subplot(2, n, i+1)\n",
        "        plt.imshow(x_test[i].reshape(28,28))\n",
        "        plt.gray()\n",
        "        ax.get_xaxis().set_visible(False)\n",
        "        ax.get_yaxis().set_visible(False)\n",
        "\n",
        "        if decoded_imgs is not None:\n",
        "            ax = plt.subplot(2, n, i+ 1 +n)\n",
        "            plt.imshow(decoded_imgs[i].reshape(28,28))\n",
        "            plt.gray()\n",
        "            ax.get_xaxis().set_visible(False)\n",
        "            ax.get_yaxis().set_visible(False)\n",
        "    plt.show()"
      ],
      "execution_count": 0,
      "outputs": []
    },
    {
      "metadata": {
        "id": "RtntOHIbK4iM",
        "colab_type": "code",
        "outputId": "4dc9fbaf-603b-4d96-cfc2-865a9dfbd0ed",
        "colab": {
          "base_uri": "https://localhost:8080/",
          "height": 244
        }
      },
      "cell_type": "code",
      "source": [
        "decoded_imgs = autoen.predict(x_test)\n",
        "#print \"input (upper row)\\ndecoded (bottom row)\"\n",
        "show_imgs(x_test[50:500], decoded_imgs[50:500])\n"
      ],
      "execution_count": 7,
      "outputs": [
        {
          "output_type": "display_data",
          "data": {
            "image/png": "[encoded data removed]",
            "text/plain": [
              "<Figure size 1440x288 with 20 Axes>"
            ]
          },
          "metadata": {
            "tags": []
          }
        }
      ]
    },
    {
      "metadata": {
        "id": "Z3zVbnkgLS6A",
        "colab_type": "code",
        "colab": {}
      },
      "cell_type": "code",
      "source": [
        ""
      ],
      "execution_count": 0,
      "outputs": []
    },
    {
      "metadata": {
        "id": "qRGRLaKULVrT",
        "colab_type": "code",
        "colab": {}
      },
      "cell_type": "code",
      "source": [
        ""
      ],
      "execution_count": 0,
      "outputs": []
    }
  ]
}